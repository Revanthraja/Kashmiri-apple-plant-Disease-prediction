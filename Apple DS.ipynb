{
 "cells": [
  {
   "cell_type": "code",
   "execution_count": 23,
   "id": "da7e2465",
   "metadata": {},
   "outputs": [],
   "source": [
    "import numpy as np\n",
    "from tensorflow.keras.preprocessing.image import ImageDataGenerator\n",
    "from tensorflow.keras.layers import Conv2D,MaxPool2D,Dense,Dropout,Activation,Flatten,MaxPooling2D\n",
    "from tensorflow.keras.models import Sequential,load_model\n"
   ]
  },
  {
   "cell_type": "code",
   "execution_count": 2,
   "id": "b3141638",
   "metadata": {},
   "outputs": [],
   "source": [
    "train_data=ImageDataGenerator(\n",
    "        rescale=1./255,\n",
    "    shear_range=0.2,\n",
    "    zoom_range=0.2,\n",
    "    horizontal_flip=False\n",
    "    )"
   ]
  },
  {
   "cell_type": "code",
   "execution_count": 3,
   "id": "952c7df9",
   "metadata": {},
   "outputs": [
    {
     "name": "stdout",
     "output_type": "stream",
     "text": [
      "Found 419 images belonging to 4 classes.\n"
     ]
    }
   ],
   "source": [
    "train_set=train_data.flow_from_directory(\n",
    "    \"Train\",\n",
    "    target_size=(48,48),\n",
    "    batch_size=32,\n",
    "    class_mode='categorical'\n",
    ")"
   ]
  },
  {
   "cell_type": "code",
   "execution_count": 4,
   "id": "17e119c3",
   "metadata": {},
   "outputs": [],
   "source": [
    "test_data=ImageDataGenerator(\n",
    "    rescale=1./255)"
   ]
  },
  {
   "cell_type": "code",
   "execution_count": 5,
   "id": "4bb04dd4",
   "metadata": {},
   "outputs": [
    {
     "name": "stdout",
     "output_type": "stream",
     "text": [
      "Found 192 images belonging to 4 classes.\n"
     ]
    }
   ],
   "source": [
    "test_set=test_data.flow_from_directory(\n",
    "    \"Test\",\n",
    "    target_size=(48,48),\n",
    "    batch_size=32,\n",
    "    class_mode=\"categorical\"\n",
    "\n",
    ")"
   ]
  },
  {
   "cell_type": "code",
   "execution_count": 6,
   "id": "30baddcf",
   "metadata": {},
   "outputs": [],
   "source": [
    "model=Sequential()"
   ]
  },
  {
   "cell_type": "code",
   "execution_count": 7,
   "id": "2a6df103",
   "metadata": {},
   "outputs": [],
   "source": [
    "model.add(Conv2D(64,(3,3),activation='relu',input_shape=(48,48,3)))\n",
    "model.add(MaxPooling2D(2,2))"
   ]
  },
  {
   "cell_type": "code",
   "execution_count": 8,
   "id": "35144a7f",
   "metadata": {},
   "outputs": [],
   "source": [
    "model.add(Conv2D(128,(3,3),activation='relu'))\n",
    "model.add(MaxPooling2D(2,2))\n",
    "model.add(Conv2D(256,(3,3),activation='relu'))\n",
    "model.add(MaxPooling2D(2,2))\n",
    "model.add(Conv2D(512,(3,3),activation='relu'))\n",
    "model.add(MaxPooling2D(2,2))"
   ]
  },
  {
   "cell_type": "code",
   "execution_count": 9,
   "id": "75b95a6d",
   "metadata": {},
   "outputs": [],
   "source": [
    "model.add(Dropout(0.25))\n",
    "model.add(Flatten())"
   ]
  },
  {
   "cell_type": "code",
   "execution_count": 10,
   "id": "1a784261",
   "metadata": {},
   "outputs": [],
   "source": [
    "model.add(Dense(256,activation='relu'))\n",
    "model.add(Dense(256,activation='relu'))\n",
    "model.add(Dense(128,activation='relu'))\n",
    "model.add(Dense(128,activation='relu'))\n",
    "model.add(Dense(64,activation='relu'))"
   ]
  },
  {
   "cell_type": "code",
   "execution_count": 11,
   "id": "7e0e258d",
   "metadata": {},
   "outputs": [],
   "source": [
    "model.add(Dense(4,activation='softmax'))"
   ]
  },
  {
   "cell_type": "code",
   "execution_count": 12,
   "id": "4e048207",
   "metadata": {},
   "outputs": [],
   "source": [
    "model.compile(optimizer='adam',loss='categorical_crossentropy',metrics=['accuracy'])"
   ]
  },
  {
   "cell_type": "code",
   "execution_count": 14,
   "id": "23da001c",
   "metadata": {},
   "outputs": [
    {
     "name": "stdout",
     "output_type": "stream",
     "text": [
      "Epoch 1/100\n",
      "14/14 [==============================] - 8s 579ms/step - loss: 0.9851 - accuracy: 0.5227 - val_loss: 0.9958 - val_accuracy: 0.4740\n",
      "Epoch 2/100\n",
      "14/14 [==============================] - 7s 483ms/step - loss: 0.9412 - accuracy: 0.5131 - val_loss: 0.8933 - val_accuracy: 0.5729\n",
      "Epoch 3/100\n",
      "14/14 [==============================] - 6s 458ms/step - loss: 0.8980 - accuracy: 0.5656 - val_loss: 0.8319 - val_accuracy: 0.5990\n",
      "Epoch 4/100\n",
      "14/14 [==============================] - 7s 545ms/step - loss: 0.8530 - accuracy: 0.5847 - val_loss: 0.7740 - val_accuracy: 0.6042\n",
      "Epoch 5/100\n",
      "14/14 [==============================] - 5s 371ms/step - loss: 0.7778 - accuracy: 0.6325 - val_loss: 0.7342 - val_accuracy: 0.6406\n",
      "Epoch 6/100\n",
      "14/14 [==============================] - 7s 545ms/step - loss: 0.9860 - accuracy: 0.5298 - val_loss: 0.9091 - val_accuracy: 0.5417\n",
      "Epoch 7/100\n",
      "14/14 [==============================] - 6s 400ms/step - loss: 0.8278 - accuracy: 0.5919 - val_loss: 0.8447 - val_accuracy: 0.5885\n",
      "Epoch 8/100\n",
      "14/14 [==============================] - 6s 428ms/step - loss: 0.8044 - accuracy: 0.6110 - val_loss: 0.8371 - val_accuracy: 0.5625\n",
      "Epoch 9/100\n",
      "14/14 [==============================] - 6s 439ms/step - loss: 0.9291 - accuracy: 0.5537 - val_loss: 0.7969 - val_accuracy: 0.6198\n",
      "Epoch 10/100\n",
      "14/14 [==============================] - 6s 402ms/step - loss: 0.8646 - accuracy: 0.5728 - val_loss: 0.8658 - val_accuracy: 0.6146\n",
      "Epoch 11/100\n",
      "14/14 [==============================] - 7s 529ms/step - loss: 0.7943 - accuracy: 0.6396 - val_loss: 0.6931 - val_accuracy: 0.6823\n",
      "Epoch 12/100\n",
      "14/14 [==============================] - 6s 454ms/step - loss: 0.7165 - accuracy: 0.6706 - val_loss: 0.6726 - val_accuracy: 0.6719\n",
      "Epoch 13/100\n",
      "14/14 [==============================] - 5s 395ms/step - loss: 0.8079 - accuracy: 0.6014 - val_loss: 0.7709 - val_accuracy: 0.5885\n",
      "Epoch 14/100\n",
      "14/14 [==============================] - 6s 450ms/step - loss: 0.8964 - accuracy: 0.6659 - val_loss: 2.2306 - val_accuracy: 0.5990\n",
      "Epoch 15/100\n",
      "14/14 [==============================] - 6s 413ms/step - loss: 1.0470 - accuracy: 0.5465 - val_loss: 1.0361 - val_accuracy: 0.5000\n",
      "Epoch 16/100\n",
      "14/14 [==============================] - 6s 470ms/step - loss: 0.9804 - accuracy: 0.5060 - val_loss: 1.0310 - val_accuracy: 0.5260\n",
      "Epoch 17/100\n",
      "14/14 [==============================] - 7s 505ms/step - loss: 0.9034 - accuracy: 0.5704 - val_loss: 0.9475 - val_accuracy: 0.5938\n",
      "Epoch 18/100\n",
      "14/14 [==============================] - 5s 360ms/step - loss: 0.8090 - accuracy: 0.6325 - val_loss: 0.7834 - val_accuracy: 0.6146\n",
      "Epoch 19/100\n",
      "14/14 [==============================] - 7s 479ms/step - loss: 0.7648 - accuracy: 0.6181 - val_loss: 0.7548 - val_accuracy: 0.6667\n",
      "Epoch 20/100\n",
      "14/14 [==============================] - 6s 434ms/step - loss: 0.7297 - accuracy: 0.6611 - val_loss: 0.6802 - val_accuracy: 0.7031\n",
      "Epoch 21/100\n",
      "14/14 [==============================] - 7s 473ms/step - loss: 0.6800 - accuracy: 0.7136 - val_loss: 0.6677 - val_accuracy: 0.6823\n",
      "Epoch 22/100\n",
      "14/14 [==============================] - 7s 520ms/step - loss: 0.7447 - accuracy: 0.6683 - val_loss: 0.6114 - val_accuracy: 0.7552\n",
      "Epoch 23/100\n",
      "14/14 [==============================] - 5s 383ms/step - loss: 0.6787 - accuracy: 0.7017 - val_loss: 0.5678 - val_accuracy: 0.7552\n",
      "Epoch 24/100\n",
      "14/14 [==============================] - 7s 532ms/step - loss: 0.6187 - accuracy: 0.7279 - val_loss: 0.4867 - val_accuracy: 0.7656\n",
      "Epoch 25/100\n",
      "14/14 [==============================] - 6s 419ms/step - loss: 0.6709 - accuracy: 0.6945 - val_loss: 0.6507 - val_accuracy: 0.7135\n",
      "Epoch 26/100\n",
      "14/14 [==============================] - 7s 505ms/step - loss: 0.5784 - accuracy: 0.7589 - val_loss: 0.4821 - val_accuracy: 0.7708\n",
      "Epoch 27/100\n",
      "14/14 [==============================] - 7s 496ms/step - loss: 0.5235 - accuracy: 0.7494 - val_loss: 0.4750 - val_accuracy: 0.7708\n",
      "Epoch 28/100\n",
      "14/14 [==============================] - 5s 393ms/step - loss: 0.5671 - accuracy: 0.7542 - val_loss: 0.4487 - val_accuracy: 0.7552\n",
      "Epoch 29/100\n",
      "14/14 [==============================] - 7s 469ms/step - loss: 0.5469 - accuracy: 0.7685 - val_loss: 0.4634 - val_accuracy: 0.7865\n",
      "Epoch 30/100\n",
      "14/14 [==============================] - 6s 389ms/step - loss: 0.5046 - accuracy: 0.7900 - val_loss: 0.3724 - val_accuracy: 0.8490\n",
      "Epoch 31/100\n",
      "14/14 [==============================] - 6s 424ms/step - loss: 0.4430 - accuracy: 0.7995 - val_loss: 0.4513 - val_accuracy: 0.8073\n",
      "Epoch 32/100\n",
      "14/14 [==============================] - 6s 432ms/step - loss: 0.5071 - accuracy: 0.7900 - val_loss: 0.4729 - val_accuracy: 0.7708\n",
      "Epoch 33/100\n",
      "14/14 [==============================] - 5s 369ms/step - loss: 0.4368 - accuracy: 0.7924 - val_loss: 0.3497 - val_accuracy: 0.8125\n",
      "Epoch 34/100\n",
      "14/14 [==============================] - 7s 509ms/step - loss: 0.4370 - accuracy: 0.8019 - val_loss: 0.3367 - val_accuracy: 0.8698\n",
      "Epoch 35/100\n",
      "14/14 [==============================] - 7s 506ms/step - loss: 0.3679 - accuracy: 0.8496 - val_loss: 0.3202 - val_accuracy: 0.8542\n",
      "Epoch 36/100\n",
      "14/14 [==============================] - 6s 404ms/step - loss: 0.4844 - accuracy: 0.7900 - val_loss: 0.4666 - val_accuracy: 0.8229\n",
      "Epoch 37/100\n",
      "14/14 [==============================] - 7s 499ms/step - loss: 0.4732 - accuracy: 0.7971 - val_loss: 0.3652 - val_accuracy: 0.8177\n",
      "Epoch 38/100\n",
      "14/14 [==============================] - 5s 376ms/step - loss: 0.4548 - accuracy: 0.8067 - val_loss: 0.2896 - val_accuracy: 0.8750\n",
      "Epoch 39/100\n",
      "14/14 [==============================] - 7s 530ms/step - loss: 0.3000 - accuracy: 0.9045 - val_loss: 0.2871 - val_accuracy: 0.8854\n",
      "Epoch 40/100\n",
      "14/14 [==============================] - 7s 477ms/step - loss: 0.3311 - accuracy: 0.8592 - val_loss: 0.2313 - val_accuracy: 0.9219\n",
      "Epoch 41/100\n",
      "14/14 [==============================] - 6s 402ms/step - loss: 0.3162 - accuracy: 0.8616 - val_loss: 0.2014 - val_accuracy: 0.9115\n",
      "Epoch 42/100\n",
      "14/14 [==============================] - 8s 549ms/step - loss: 0.2590 - accuracy: 0.8783 - val_loss: 0.2026 - val_accuracy: 0.9167\n",
      "Epoch 43/100\n",
      "14/14 [==============================] - 6s 385ms/step - loss: 0.3148 - accuracy: 0.8616 - val_loss: 0.2200 - val_accuracy: 0.9010\n",
      "Epoch 44/100\n",
      "14/14 [==============================] - 7s 538ms/step - loss: 0.3228 - accuracy: 0.8735 - val_loss: 0.1714 - val_accuracy: 0.9375\n",
      "Epoch 45/100\n",
      "14/14 [==============================] - 7s 474ms/step - loss: 0.2538 - accuracy: 0.9189 - val_loss: 0.1861 - val_accuracy: 0.9271\n",
      "Epoch 46/100\n",
      "14/14 [==============================] - 6s 465ms/step - loss: 0.4015 - accuracy: 0.8568 - val_loss: 0.3173 - val_accuracy: 0.8333\n",
      "Epoch 47/100\n",
      "14/14 [==============================] - 7s 530ms/step - loss: 0.2523 - accuracy: 0.9093 - val_loss: 0.2027 - val_accuracy: 0.9323\n",
      "Epoch 48/100\n",
      "14/14 [==============================] - 5s 384ms/step - loss: 0.2178 - accuracy: 0.9141 - val_loss: 0.1643 - val_accuracy: 0.9323\n",
      "Epoch 49/100\n",
      "14/14 [==============================] - 7s 532ms/step - loss: 0.2191 - accuracy: 0.9189 - val_loss: 0.1465 - val_accuracy: 0.9375\n",
      "Epoch 50/100\n",
      "14/14 [==============================] - 6s 451ms/step - loss: 0.2252 - accuracy: 0.9093 - val_loss: 0.1438 - val_accuracy: 0.9531\n",
      "Epoch 51/100\n",
      "14/14 [==============================] - 6s 459ms/step - loss: 0.1908 - accuracy: 0.9212 - val_loss: 0.2041 - val_accuracy: 0.9167\n",
      "Epoch 52/100\n",
      "14/14 [==============================] - 7s 528ms/step - loss: 0.2635 - accuracy: 0.8998 - val_loss: 0.1358 - val_accuracy: 0.9427\n",
      "Epoch 53/100\n",
      "14/14 [==============================] - 5s 368ms/step - loss: 0.1646 - accuracy: 0.9427 - val_loss: 0.0915 - val_accuracy: 0.9635\n",
      "Epoch 54/100\n",
      "14/14 [==============================] - 7s 526ms/step - loss: 0.1574 - accuracy: 0.9236 - val_loss: 0.1270 - val_accuracy: 0.9583\n",
      "Epoch 55/100\n",
      "14/14 [==============================] - 6s 430ms/step - loss: 0.1654 - accuracy: 0.9403 - val_loss: 0.0593 - val_accuracy: 0.9844\n",
      "Epoch 56/100\n",
      "14/14 [==============================] - 7s 504ms/step - loss: 0.1184 - accuracy: 0.9618 - val_loss: 0.0427 - val_accuracy: 0.9948\n",
      "Epoch 57/100\n",
      "14/14 [==============================] - 7s 511ms/step - loss: 0.1422 - accuracy: 0.9260 - val_loss: 0.0473 - val_accuracy: 0.9792\n"
     ]
    },
    {
     "name": "stdout",
     "output_type": "stream",
     "text": [
      "Epoch 58/100\n",
      "14/14 [==============================] - 5s 388ms/step - loss: 0.3128 - accuracy: 0.8783 - val_loss: 0.3470 - val_accuracy: 0.8646\n",
      "Epoch 59/100\n",
      "14/14 [==============================] - 6s 432ms/step - loss: 0.4417 - accuracy: 0.8282 - val_loss: 0.2616 - val_accuracy: 0.8958\n",
      "Epoch 60/100\n",
      "14/14 [==============================] - 6s 423ms/step - loss: 0.3190 - accuracy: 0.8854 - val_loss: 0.2305 - val_accuracy: 0.9115\n",
      "Epoch 61/100\n",
      "14/14 [==============================] - 6s 466ms/step - loss: 0.2901 - accuracy: 0.9069 - val_loss: 0.1309 - val_accuracy: 0.9531\n",
      "Epoch 62/100\n",
      "14/14 [==============================] - 6s 447ms/step - loss: 0.2427 - accuracy: 0.9069 - val_loss: 0.1217 - val_accuracy: 0.9531\n",
      "Epoch 63/100\n",
      "14/14 [==============================] - 6s 386ms/step - loss: 0.1997 - accuracy: 0.9260 - val_loss: 0.0792 - val_accuracy: 0.9740\n",
      "Epoch 64/100\n",
      "14/14 [==============================] - 7s 523ms/step - loss: 0.2071 - accuracy: 0.9236 - val_loss: 0.0922 - val_accuracy: 0.9688\n",
      "Epoch 65/100\n",
      "14/14 [==============================] - 6s 444ms/step - loss: 0.2803 - accuracy: 0.8974 - val_loss: 0.1180 - val_accuracy: 0.9427\n",
      "Epoch 66/100\n",
      "14/14 [==============================] - 6s 437ms/step - loss: 0.1948 - accuracy: 0.9379 - val_loss: 0.4076 - val_accuracy: 0.8594\n",
      "Epoch 67/100\n",
      "14/14 [==============================] - 7s 521ms/step - loss: 0.2339 - accuracy: 0.9212 - val_loss: 0.1814 - val_accuracy: 0.9271\n",
      "Epoch 68/100\n",
      "14/14 [==============================] - 5s 375ms/step - loss: 0.1986 - accuracy: 0.9189 - val_loss: 0.0893 - val_accuracy: 0.9688\n",
      "Epoch 69/100\n",
      "14/14 [==============================] - 6s 434ms/step - loss: 0.1903 - accuracy: 0.9212 - val_loss: 0.1689 - val_accuracy: 0.9323\n",
      "Epoch 70/100\n",
      "14/14 [==============================] - 7s 477ms/step - loss: 0.2611 - accuracy: 0.8878 - val_loss: 0.1605 - val_accuracy: 0.9219\n",
      "Epoch 71/100\n",
      "14/14 [==============================] - 6s 471ms/step - loss: 0.1932 - accuracy: 0.9308 - val_loss: 0.0356 - val_accuracy: 0.9896\n",
      "Epoch 72/100\n",
      "14/14 [==============================] - 8s 578ms/step - loss: 0.1716 - accuracy: 0.9356 - val_loss: 0.0509 - val_accuracy: 0.9844\n",
      "Epoch 73/100\n",
      "14/14 [==============================] - 5s 414ms/step - loss: 0.1296 - accuracy: 0.9642 - val_loss: 0.0858 - val_accuracy: 0.9740\n",
      "Epoch 74/100\n",
      "14/14 [==============================] - 8s 581ms/step - loss: 0.1332 - accuracy: 0.9523 - val_loss: 0.0302 - val_accuracy: 0.9792\n",
      "Epoch 75/100\n",
      "14/14 [==============================] - 6s 430ms/step - loss: 0.1110 - accuracy: 0.9547 - val_loss: 0.0288 - val_accuracy: 0.9896\n",
      "Epoch 76/100\n",
      "14/14 [==============================] - 7s 515ms/step - loss: 0.1378 - accuracy: 0.9523 - val_loss: 0.0270 - val_accuracy: 0.9896\n",
      "Epoch 77/100\n",
      "14/14 [==============================] - 7s 505ms/step - loss: 0.0792 - accuracy: 0.9642 - val_loss: 0.0402 - val_accuracy: 0.9688\n",
      "Epoch 78/100\n",
      "14/14 [==============================] - 6s 436ms/step - loss: 0.0738 - accuracy: 0.9666 - val_loss: 0.0383 - val_accuracy: 0.9740\n",
      "Epoch 79/100\n",
      "14/14 [==============================] - 7s 525ms/step - loss: 0.1107 - accuracy: 0.9523 - val_loss: 0.0364 - val_accuracy: 0.9844\n",
      "Epoch 80/100\n",
      "14/14 [==============================] - 5s 353ms/step - loss: 0.1660 - accuracy: 0.9284 - val_loss: 0.0287 - val_accuracy: 0.9896\n",
      "Epoch 81/100\n",
      "14/14 [==============================] - 6s 448ms/step - loss: 0.1602 - accuracy: 0.9403 - val_loss: 0.0436 - val_accuracy: 0.9896\n",
      "Epoch 82/100\n",
      "14/14 [==============================] - 7s 513ms/step - loss: 0.1374 - accuracy: 0.9451 - val_loss: 0.0597 - val_accuracy: 0.9792\n",
      "Epoch 83/100\n",
      "14/14 [==============================] - 5s 359ms/step - loss: 0.0930 - accuracy: 0.9570 - val_loss: 0.0171 - val_accuracy: 0.9948\n",
      "Epoch 84/100\n",
      "14/14 [==============================] - 7s 513ms/step - loss: 0.0923 - accuracy: 0.9714 - val_loss: 0.0202 - val_accuracy: 0.9948\n",
      "Epoch 85/100\n",
      "14/14 [==============================] - 6s 394ms/step - loss: 0.0673 - accuracy: 0.9761 - val_loss: 0.0256 - val_accuracy: 0.9896\n",
      "Epoch 86/100\n",
      "14/14 [==============================] - 6s 407ms/step - loss: 0.0568 - accuracy: 0.9809 - val_loss: 0.0196 - val_accuracy: 0.9948\n",
      "Epoch 87/100\n",
      "14/14 [==============================] - 7s 510ms/step - loss: 0.0495 - accuracy: 0.9785 - val_loss: 0.0216 - val_accuracy: 0.9844\n",
      "Epoch 88/100\n",
      "14/14 [==============================] - 5s 370ms/step - loss: 0.0400 - accuracy: 0.9809 - val_loss: 0.0171 - val_accuracy: 0.9844\n",
      "Epoch 89/100\n",
      "14/14 [==============================] - 7s 513ms/step - loss: 0.0522 - accuracy: 0.9785 - val_loss: 0.0156 - val_accuracy: 0.9948\n",
      "Epoch 90/100\n",
      "14/14 [==============================] - 6s 447ms/step - loss: 0.0379 - accuracy: 0.9809 - val_loss: 0.0251 - val_accuracy: 0.9792\n",
      "Epoch 91/100\n",
      "14/14 [==============================] - 6s 428ms/step - loss: 0.0683 - accuracy: 0.9761 - val_loss: 0.0203 - val_accuracy: 0.9844\n",
      "Epoch 92/100\n",
      "14/14 [==============================] - 7s 493ms/step - loss: 0.1002 - accuracy: 0.9618 - val_loss: 0.0353 - val_accuracy: 0.9844\n",
      "Epoch 93/100\n",
      "14/14 [==============================] - 5s 377ms/step - loss: 0.1565 - accuracy: 0.9427 - val_loss: 0.0464 - val_accuracy: 0.9844\n",
      "Epoch 94/100\n",
      "14/14 [==============================] - 7s 572ms/step - loss: 0.1559 - accuracy: 0.9427 - val_loss: 0.0382 - val_accuracy: 0.9896\n",
      "Epoch 95/100\n",
      "14/14 [==============================] - 6s 438ms/step - loss: 0.0944 - accuracy: 0.9642 - val_loss: 0.0210 - val_accuracy: 0.9948\n",
      "Epoch 96/100\n",
      "14/14 [==============================] - 6s 450ms/step - loss: 0.0945 - accuracy: 0.9618 - val_loss: 0.0707 - val_accuracy: 0.9688\n",
      "Epoch 97/100\n",
      "14/14 [==============================] - 7s 524ms/step - loss: 0.1367 - accuracy: 0.9594 - val_loss: 0.0372 - val_accuracy: 0.9792\n",
      "Epoch 98/100\n",
      "14/14 [==============================] - 6s 385ms/step - loss: 0.1226 - accuracy: 0.9570 - val_loss: 0.0659 - val_accuracy: 0.9583\n",
      "Epoch 99/100\n",
      "14/14 [==============================] - 6s 445ms/step - loss: 0.0898 - accuracy: 0.9547 - val_loss: 0.0225 - val_accuracy: 0.9948\n",
      "Epoch 100/100\n",
      "14/14 [==============================] - 6s 485ms/step - loss: 0.0928 - accuracy: 0.9642 - val_loss: 0.0195 - val_accuracy: 0.9844\n"
     ]
    },
    {
     "data": {
      "text/plain": [
       "<keras.callbacks.History at 0x1abc31803d0>"
      ]
     },
     "execution_count": 14,
     "metadata": {},
     "output_type": "execute_result"
    }
   ],
   "source": [
    "model.fit(x=train_set,validation_data=test_set,epochs=100)"
   ]
  },
  {
   "cell_type": "code",
   "execution_count": 15,
   "id": "c12517ab",
   "metadata": {},
   "outputs": [],
   "source": [
    "model.save(\"Apple.h5\")"
   ]
  },
  {
   "cell_type": "code",
   "execution_count": 16,
   "id": "cc1f916a",
   "metadata": {},
   "outputs": [
    {
     "data": {
      "text/plain": [
       "{'Healthy images': 0, 'Root': 1, 'Scarb leaves': 2, 'leaf boltch': 3}"
      ]
     },
     "execution_count": 16,
     "metadata": {},
     "output_type": "execute_result"
    }
   ],
   "source": [
    "train_set.class_indices"
   ]
  },
  {
   "cell_type": "code",
   "execution_count": 24,
   "id": "f7ea7f71",
   "metadata": {},
   "outputs": [],
   "source": [
    "model=load_model(\"Apple.h5\")"
   ]
  },
  {
   "cell_type": "code",
   "execution_count": 25,
   "id": "2875ded7",
   "metadata": {},
   "outputs": [
    {
     "name": "stdout",
     "output_type": "stream",
     "text": [
      "1/1 [==============================] - 0s 227ms/step\n"
     ]
    }
   ],
   "source": [
    "from tensorflow.keras.preprocessing import image\n",
    "test_image=image.load_img(\"1017.JPG.jpeg\",target_size=(48,48))\n",
    "test_image=image.img_to_array(test_image)\n",
    "test_image=np.expand_dims(test_image,axis=0)\n",
    "result=model.predict(test_image)"
   ]
  },
  {
   "cell_type": "code",
   "execution_count": 26,
   "id": "18458478",
   "metadata": {},
   "outputs": [
    {
     "data": {
      "text/plain": [
       "array([[0., 0., 0., 1.]], dtype=float32)"
      ]
     },
     "execution_count": 26,
     "metadata": {},
     "output_type": "execute_result"
    }
   ],
   "source": [
    "result"
   ]
  },
  {
   "cell_type": "code",
   "execution_count": 27,
   "id": "97a14fbe",
   "metadata": {},
   "outputs": [
    {
     "name": "stdout",
     "output_type": "stream",
     "text": [
      "This is an Leaf boltch\n"
     ]
    }
   ],
   "source": [
    "if result[0][0]==1:\n",
    "    print(\"Healthy images\")\n",
    "if result[0][1]==1:\n",
    "    print(\"This an Root Effect image\")\n",
    "if result[0][2]==1:\n",
    "    print(\"This is an Scrab leaves\")\n",
    "if result[0][3]==1:\n",
    "    print(\"This is an Leaf boltch\")\n",
    "else:\n",
    "    print(\"This is an Wrong Image\")"
   ]
  },
  {
   "cell_type": "code",
   "execution_count": null,
   "id": "b3f1a9d8",
   "metadata": {},
   "outputs": [],
   "source": []
  }
 ],
 "metadata": {
  "kernelspec": {
   "display_name": "Python 3 (ipykernel)",
   "language": "python",
   "name": "python3"
  },
  "language_info": {
   "codemirror_mode": {
    "name": "ipython",
    "version": 3
   },
   "file_extension": ".py",
   "mimetype": "text/x-python",
   "name": "python",
   "nbconvert_exporter": "python",
   "pygments_lexer": "ipython3",
   "version": "3.9.12"
  }
 },
 "nbformat": 4,
 "nbformat_minor": 5
}
